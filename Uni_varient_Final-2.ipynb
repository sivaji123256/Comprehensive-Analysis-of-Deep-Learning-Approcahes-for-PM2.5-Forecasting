{
 "cells": [
  {
   "cell_type": "code",
   "execution_count": 0,
   "metadata": {
    "colab": {
     "base_uri": "https://localhost:8080/",
     "height": 80
    },
    "colab_type": "code",
    "executionInfo": {
     "elapsed": 2326,
     "status": "ok",
     "timestamp": 1584347614537,
     "user": {
      "displayName": "Pavan Yarramsetti",
      "photoUrl": "https://lh3.googleusercontent.com/a-/AOh14Ghs51HzOK4JEZ0he65HGpNeQDdDZuuZBvMQyNTS9g=s64",
      "userId": "10676025341115240513"
     },
     "user_tz": -330
    },
    "id": "Z3SdAN5jzKA0",
    "outputId": "4e976768-0620-4f3a-d63f-6894fd2ac100"
   },
   "outputs": [
    {
     "name": "stderr",
     "output_type": "stream",
     "text": [
      "Using TensorFlow backend.\n"
     ]
    },
    {
     "data": {
      "text/html": [
       "<p style=\"color: red;\">\n",
       "The default version of TensorFlow in Colab will soon switch to TensorFlow 2.x.<br>\n",
       "We recommend you <a href=\"https://www.tensorflow.org/guide/migrate\" target=\"_blank\">upgrade</a> now \n",
       "or ensure your notebook will continue to use TensorFlow 1.x via the <code>%tensorflow_version 1.x</code> magic:\n",
       "<a href=\"https://colab.research.google.com/notebooks/tensorflow_version.ipynb\" target=\"_blank\">more info</a>.</p>\n"
      ],
      "text/plain": [
       "<IPython.core.display.HTML object>"
      ]
     },
     "metadata": {
      "tags": []
     },
     "output_type": "display_data"
    }
   ],
   "source": [
    "from keras.layers import *\n",
    "from keras.models import Sequential\n",
    "from tensorflow.keras import Input, Model"
   ]
  },
  {
   "cell_type": "code",
   "execution_count": 0,
   "metadata": {
    "colab": {},
    "colab_type": "code",
    "id": "UA5d6rwNzjXK"
   },
   "outputs": [],
   "source": [
    "import pandas as pd\n",
    "import numpy as np"
   ]
  },
  {
   "cell_type": "code",
   "execution_count": 0,
   "metadata": {
    "colab": {},
    "colab_type": "code",
    "id": "ugN2xwD7_MX-"
   },
   "outputs": [],
   "source": [
    "df=pd.read_csv('PRSA_data_2010.1.1-2014.12.31.csv')"
   ]
  },
  {
   "cell_type": "code",
   "execution_count": 0,
   "metadata": {
    "colab": {
     "base_uri": "https://localhost:8080/",
     "height": 419
    },
    "colab_type": "code",
    "executionInfo": {
     "elapsed": 2297,
     "status": "ok",
     "timestamp": 1584011080830,
     "user": {
      "displayName": "Pavan Yarramsetti",
      "photoUrl": "https://lh3.googleusercontent.com/a-/AOh14Ghs51HzOK4JEZ0he65HGpNeQDdDZuuZBvMQyNTS9g=s64",
      "userId": "10676025341115240513"
     },
     "user_tz": -330
    },
    "id": "-oFrMcpTat2X",
    "outputId": "b5106da6-9626-4c60-97e6-96e563cf3ce4"
   },
   "outputs": [
    {
     "data": {
      "text/html": [
       "<div>\n",
       "<style scoped>\n",
       "    .dataframe tbody tr th:only-of-type {\n",
       "        vertical-align: middle;\n",
       "    }\n",
       "\n",
       "    .dataframe tbody tr th {\n",
       "        vertical-align: top;\n",
       "    }\n",
       "\n",
       "    .dataframe thead th {\n",
       "        text-align: right;\n",
       "    }\n",
       "</style>\n",
       "<table border=\"1\" class=\"dataframe\">\n",
       "  <thead>\n",
       "    <tr style=\"text-align: right;\">\n",
       "      <th></th>\n",
       "      <th>No</th>\n",
       "      <th>year</th>\n",
       "      <th>month</th>\n",
       "      <th>day</th>\n",
       "      <th>hour</th>\n",
       "      <th>pm2.5</th>\n",
       "      <th>DEWP</th>\n",
       "      <th>TEMP</th>\n",
       "      <th>PRES</th>\n",
       "      <th>cbwd</th>\n",
       "      <th>Iws</th>\n",
       "      <th>Is</th>\n",
       "      <th>Ir</th>\n",
       "    </tr>\n",
       "  </thead>\n",
       "  <tbody>\n",
       "    <tr>\n",
       "      <th>0</th>\n",
       "      <td>1</td>\n",
       "      <td>2010</td>\n",
       "      <td>1</td>\n",
       "      <td>1</td>\n",
       "      <td>0</td>\n",
       "      <td>NaN</td>\n",
       "      <td>-21</td>\n",
       "      <td>-11.0</td>\n",
       "      <td>1021.0</td>\n",
       "      <td>NW</td>\n",
       "      <td>1.79</td>\n",
       "      <td>0</td>\n",
       "      <td>0</td>\n",
       "    </tr>\n",
       "    <tr>\n",
       "      <th>1</th>\n",
       "      <td>2</td>\n",
       "      <td>2010</td>\n",
       "      <td>1</td>\n",
       "      <td>1</td>\n",
       "      <td>1</td>\n",
       "      <td>NaN</td>\n",
       "      <td>-21</td>\n",
       "      <td>-12.0</td>\n",
       "      <td>1020.0</td>\n",
       "      <td>NW</td>\n",
       "      <td>4.92</td>\n",
       "      <td>0</td>\n",
       "      <td>0</td>\n",
       "    </tr>\n",
       "    <tr>\n",
       "      <th>2</th>\n",
       "      <td>3</td>\n",
       "      <td>2010</td>\n",
       "      <td>1</td>\n",
       "      <td>1</td>\n",
       "      <td>2</td>\n",
       "      <td>NaN</td>\n",
       "      <td>-21</td>\n",
       "      <td>-11.0</td>\n",
       "      <td>1019.0</td>\n",
       "      <td>NW</td>\n",
       "      <td>6.71</td>\n",
       "      <td>0</td>\n",
       "      <td>0</td>\n",
       "    </tr>\n",
       "    <tr>\n",
       "      <th>3</th>\n",
       "      <td>4</td>\n",
       "      <td>2010</td>\n",
       "      <td>1</td>\n",
       "      <td>1</td>\n",
       "      <td>3</td>\n",
       "      <td>NaN</td>\n",
       "      <td>-21</td>\n",
       "      <td>-14.0</td>\n",
       "      <td>1019.0</td>\n",
       "      <td>NW</td>\n",
       "      <td>9.84</td>\n",
       "      <td>0</td>\n",
       "      <td>0</td>\n",
       "    </tr>\n",
       "    <tr>\n",
       "      <th>4</th>\n",
       "      <td>5</td>\n",
       "      <td>2010</td>\n",
       "      <td>1</td>\n",
       "      <td>1</td>\n",
       "      <td>4</td>\n",
       "      <td>NaN</td>\n",
       "      <td>-20</td>\n",
       "      <td>-12.0</td>\n",
       "      <td>1018.0</td>\n",
       "      <td>NW</td>\n",
       "      <td>12.97</td>\n",
       "      <td>0</td>\n",
       "      <td>0</td>\n",
       "    </tr>\n",
       "    <tr>\n",
       "      <th>...</th>\n",
       "      <td>...</td>\n",
       "      <td>...</td>\n",
       "      <td>...</td>\n",
       "      <td>...</td>\n",
       "      <td>...</td>\n",
       "      <td>...</td>\n",
       "      <td>...</td>\n",
       "      <td>...</td>\n",
       "      <td>...</td>\n",
       "      <td>...</td>\n",
       "      <td>...</td>\n",
       "      <td>...</td>\n",
       "      <td>...</td>\n",
       "    </tr>\n",
       "    <tr>\n",
       "      <th>43819</th>\n",
       "      <td>43820</td>\n",
       "      <td>2014</td>\n",
       "      <td>12</td>\n",
       "      <td>31</td>\n",
       "      <td>19</td>\n",
       "      <td>8.0</td>\n",
       "      <td>-23</td>\n",
       "      <td>-2.0</td>\n",
       "      <td>1034.0</td>\n",
       "      <td>NW</td>\n",
       "      <td>231.97</td>\n",
       "      <td>0</td>\n",
       "      <td>0</td>\n",
       "    </tr>\n",
       "    <tr>\n",
       "      <th>43820</th>\n",
       "      <td>43821</td>\n",
       "      <td>2014</td>\n",
       "      <td>12</td>\n",
       "      <td>31</td>\n",
       "      <td>20</td>\n",
       "      <td>10.0</td>\n",
       "      <td>-22</td>\n",
       "      <td>-3.0</td>\n",
       "      <td>1034.0</td>\n",
       "      <td>NW</td>\n",
       "      <td>237.78</td>\n",
       "      <td>0</td>\n",
       "      <td>0</td>\n",
       "    </tr>\n",
       "    <tr>\n",
       "      <th>43821</th>\n",
       "      <td>43822</td>\n",
       "      <td>2014</td>\n",
       "      <td>12</td>\n",
       "      <td>31</td>\n",
       "      <td>21</td>\n",
       "      <td>10.0</td>\n",
       "      <td>-22</td>\n",
       "      <td>-3.0</td>\n",
       "      <td>1034.0</td>\n",
       "      <td>NW</td>\n",
       "      <td>242.70</td>\n",
       "      <td>0</td>\n",
       "      <td>0</td>\n",
       "    </tr>\n",
       "    <tr>\n",
       "      <th>43822</th>\n",
       "      <td>43823</td>\n",
       "      <td>2014</td>\n",
       "      <td>12</td>\n",
       "      <td>31</td>\n",
       "      <td>22</td>\n",
       "      <td>8.0</td>\n",
       "      <td>-22</td>\n",
       "      <td>-4.0</td>\n",
       "      <td>1034.0</td>\n",
       "      <td>NW</td>\n",
       "      <td>246.72</td>\n",
       "      <td>0</td>\n",
       "      <td>0</td>\n",
       "    </tr>\n",
       "    <tr>\n",
       "      <th>43823</th>\n",
       "      <td>43824</td>\n",
       "      <td>2014</td>\n",
       "      <td>12</td>\n",
       "      <td>31</td>\n",
       "      <td>23</td>\n",
       "      <td>12.0</td>\n",
       "      <td>-21</td>\n",
       "      <td>-3.0</td>\n",
       "      <td>1034.0</td>\n",
       "      <td>NW</td>\n",
       "      <td>249.85</td>\n",
       "      <td>0</td>\n",
       "      <td>0</td>\n",
       "    </tr>\n",
       "  </tbody>\n",
       "</table>\n",
       "<p>43824 rows × 13 columns</p>\n",
       "</div>"
      ],
      "text/plain": [
       "          No  year  month  day  hour  pm2.5  ...  TEMP    PRES  cbwd     Iws  Is  Ir\n",
       "0          1  2010      1    1     0    NaN  ... -11.0  1021.0    NW    1.79   0   0\n",
       "1          2  2010      1    1     1    NaN  ... -12.0  1020.0    NW    4.92   0   0\n",
       "2          3  2010      1    1     2    NaN  ... -11.0  1019.0    NW    6.71   0   0\n",
       "3          4  2010      1    1     3    NaN  ... -14.0  1019.0    NW    9.84   0   0\n",
       "4          5  2010      1    1     4    NaN  ... -12.0  1018.0    NW   12.97   0   0\n",
       "...      ...   ...    ...  ...   ...    ...  ...   ...     ...   ...     ...  ..  ..\n",
       "43819  43820  2014     12   31    19    8.0  ...  -2.0  1034.0    NW  231.97   0   0\n",
       "43820  43821  2014     12   31    20   10.0  ...  -3.0  1034.0    NW  237.78   0   0\n",
       "43821  43822  2014     12   31    21   10.0  ...  -3.0  1034.0    NW  242.70   0   0\n",
       "43822  43823  2014     12   31    22    8.0  ...  -4.0  1034.0    NW  246.72   0   0\n",
       "43823  43824  2014     12   31    23   12.0  ...  -3.0  1034.0    NW  249.85   0   0\n",
       "\n",
       "[43824 rows x 13 columns]"
      ]
     },
     "execution_count": 246,
     "metadata": {
      "tags": []
     },
     "output_type": "execute_result"
    }
   ],
   "source": [
    "df"
   ]
  },
  {
   "cell_type": "code",
   "execution_count": 0,
   "metadata": {
    "colab": {},
    "colab_type": "code",
    "id": "Cy4IcJPQ_MVe"
   },
   "outputs": [],
   "source": [
    "df=df['pm2.5']"
   ]
  },
  {
   "cell_type": "code",
   "execution_count": 0,
   "metadata": {
    "colab": {
     "base_uri": "https://localhost:8080/",
     "height": 34
    },
    "colab_type": "code",
    "executionInfo": {
     "elapsed": 2019,
     "status": "ok",
     "timestamp": 1584008079212,
     "user": {
      "displayName": "Pavan Yarramsetti",
      "photoUrl": "https://lh3.googleusercontent.com/a-/AOh14Ghs51HzOK4JEZ0he65HGpNeQDdDZuuZBvMQyNTS9g=s64",
      "userId": "10676025341115240513"
     },
     "user_tz": -330
    },
    "id": "bUar59BvPQkT",
    "outputId": "3b7621f8-2426-44c2-d3f2-b4d5c3e385c5"
   },
   "outputs": [
    {
     "data": {
      "text/plain": [
       "(43824,)"
      ]
     },
     "execution_count": 222,
     "metadata": {
      "tags": []
     },
     "output_type": "execute_result"
    }
   ],
   "source": [
    "df.shape"
   ]
  },
  {
   "cell_type": "code",
   "execution_count": 0,
   "metadata": {
    "colab": {},
    "colab_type": "code",
    "id": "dDcVYDxFQE_P"
   },
   "outputs": [],
   "source": [
    "df = df.dropna()"
   ]
  },
  {
   "cell_type": "code",
   "execution_count": 0,
   "metadata": {
    "colab": {
     "base_uri": "https://localhost:8080/",
     "height": 221
    },
    "colab_type": "code",
    "executionInfo": {
     "elapsed": 917,
     "status": "ok",
     "timestamp": 1584008336042,
     "user": {
      "displayName": "Pavan Yarramsetti",
      "photoUrl": "https://lh3.googleusercontent.com/a-/AOh14Ghs51HzOK4JEZ0he65HGpNeQDdDZuuZBvMQyNTS9g=s64",
      "userId": "10676025341115240513"
     },
     "user_tz": -330
    },
    "id": "6lEMHJipQNKH",
    "outputId": "5772c85b-8892-4c23-d79b-4e3616b19128"
   },
   "outputs": [
    {
     "data": {
      "text/plain": [
       "0        129.0\n",
       "1        148.0\n",
       "2        159.0\n",
       "3        181.0\n",
       "4        138.0\n",
       "         ...  \n",
       "41752      8.0\n",
       "41753     10.0\n",
       "41754     10.0\n",
       "41755      8.0\n",
       "41756     12.0\n",
       "Name: pm2.5, Length: 41757, dtype: float64"
      ]
     },
     "execution_count": 228,
     "metadata": {
      "tags": []
     },
     "output_type": "execute_result"
    }
   ],
   "source": [
    "df=df.reset_index(drop=True)\n",
    "df"
   ]
  },
  {
   "cell_type": "code",
   "execution_count": 0,
   "metadata": {
    "colab": {
     "base_uri": "https://localhost:8080/",
     "height": 34
    },
    "colab_type": "code",
    "executionInfo": {
     "elapsed": 1965,
     "status": "ok",
     "timestamp": 1584008408993,
     "user": {
      "displayName": "Pavan Yarramsetti",
      "photoUrl": "https://lh3.googleusercontent.com/a-/AOh14Ghs51HzOK4JEZ0he65HGpNeQDdDZuuZBvMQyNTS9g=s64",
      "userId": "10676025341115240513"
     },
     "user_tz": -330
    },
    "id": "GTLsG-bxQNGR",
    "outputId": "7184cb4d-99b8-40a9-ebbf-273a7e300f1b"
   },
   "outputs": [
    {
     "data": {
      "text/plain": [
       "(41757,)"
      ]
     },
     "execution_count": 230,
     "metadata": {
      "tags": []
     },
     "output_type": "execute_result"
    }
   ],
   "source": [
    "from sklearn.preprocessing import MinMaxScaler\n",
    "data = np.array(df)\n",
    "data.shape"
   ]
  },
  {
   "cell_type": "code",
   "execution_count": 0,
   "metadata": {
    "colab": {},
    "colab_type": "code",
    "id": "jUBpW8rZQNBQ"
   },
   "outputs": [],
   "source": [
    "import numpy as np\n",
    "data = np.reshape(data , (41757,1))"
   ]
  },
  {
   "cell_type": "code",
   "execution_count": 0,
   "metadata": {
    "colab": {},
    "colab_type": "code",
    "id": "M_LPF6CMQkFe"
   },
   "outputs": [],
   "source": [
    "sc = MinMaxScaler()\n",
    "data = sc.fit_transform(data)"
   ]
  },
  {
   "cell_type": "code",
   "execution_count": 0,
   "metadata": {
    "colab": {},
    "colab_type": "code",
    "id": "bVxcqNsKQkDB"
   },
   "outputs": [],
   "source": [
    "train = data[:35060]\n",
    "test = data[35060:]"
   ]
  },
  {
   "cell_type": "code",
   "execution_count": 0,
   "metadata": {
    "colab": {},
    "colab_type": "code",
    "id": "4OTpkeD7Qj_E"
   },
   "outputs": [],
   "source": [
    "n_steps = 7\n",
    "x, y = [], []\n",
    "\n",
    "for i in range(len(train)):\n",
    "  end = i+n_steps\n",
    "  if end > len(train):\n",
    "    break\n",
    "  x.append(train[i:end-1])\n",
    "  y.append(train[end-1])"
   ]
  },
  {
   "cell_type": "code",
   "execution_count": 0,
   "metadata": {
    "colab": {},
    "colab_type": "code",
    "id": "suBwl_LBQj8-"
   },
   "outputs": [],
   "source": [
    "x_test, y_test = [], []\n",
    "for i in range(len(test)):\n",
    "  end = i+n_steps\n",
    "  if end > len(test):\n",
    "    break\n",
    "  x_test.append(test[i:end-1])\n",
    "  y_test.append(test[end-1])"
   ]
  },
  {
   "cell_type": "code",
   "execution_count": 0,
   "metadata": {
    "colab": {
     "base_uri": "https://localhost:8080/",
     "height": 34
    },
    "colab_type": "code",
    "executionInfo": {
     "elapsed": 3241,
     "status": "ok",
     "timestamp": 1584008707879,
     "user": {
      "displayName": "Pavan Yarramsetti",
      "photoUrl": "https://lh3.googleusercontent.com/a-/AOh14Ghs51HzOK4JEZ0he65HGpNeQDdDZuuZBvMQyNTS9g=s64",
      "userId": "10676025341115240513"
     },
     "user_tz": -330
    },
    "id": "i_BGjngsQM_c",
    "outputId": "49ff8c1a-1fc6-4773-b40b-2bcc342435ca"
   },
   "outputs": [
    {
     "data": {
      "text/plain": [
       "((35054, 6, 1), (35054, 1), (6691, 6, 1), (6691, 1))"
      ]
     },
     "execution_count": 238,
     "metadata": {
      "tags": []
     },
     "output_type": "execute_result"
    }
   ],
   "source": [
    "X_test,Y_test=np.array(x_test),np.array(y_test)\n",
    "X_train, y_train = np.array(x), np.array(y)\n",
    "X_train.shape, y_train.shape,X_test.shape,Y_test.shape"
   ]
  },
  {
   "cell_type": "code",
   "execution_count": 0,
   "metadata": {
    "colab": {
     "base_uri": "https://localhost:8080/",
     "height": 51
    },
    "colab_type": "code",
    "executionInfo": {
     "elapsed": 9077,
     "status": "ok",
     "timestamp": 1584003982515,
     "user": {
      "displayName": "Pavan Yarramsetti",
      "photoUrl": "https://lh3.googleusercontent.com/a-/AOh14Ghs51HzOK4JEZ0he65HGpNeQDdDZuuZBvMQyNTS9g=s64",
      "userId": "10676025341115240513"
     },
     "user_tz": -330
    },
    "id": "wdKpHMFP_MUB",
    "outputId": "04ee8b32-1203-4f69-94a7-b449983c3e7c"
   },
   "outputs": [
    {
     "name": "stdout",
     "output_type": "stream",
     "text": [
      "ADF Statistic: -20.606825\n",
      "p-value: 0.000000\n"
     ]
    }
   ],
   "source": [
    "from statsmodels.tsa.stattools import adfuller\n",
    "from numpy import log\n",
    "result = adfuller(df.dropna())\n",
    "print('ADF Statistic: %f' % result[0])\n",
    "print('p-value: %f' % result[1])"
   ]
  },
  {
   "cell_type": "code",
   "execution_count": 0,
   "metadata": {
    "colab": {
     "base_uri": "https://localhost:8080/",
     "height": 729
    },
    "colab_type": "code",
    "executionInfo": {
     "elapsed": 4381,
     "status": "ok",
     "timestamp": 1584004737933,
     "user": {
      "displayName": "Pavan Yarramsetti",
      "photoUrl": "https://lh3.googleusercontent.com/a-/AOh14Ghs51HzOK4JEZ0he65HGpNeQDdDZuuZBvMQyNTS9g=s64",
      "userId": "10676025341115240513"
     },
     "user_tz": -330
    },
    "id": "1lBV0XDU_MSO",
    "outputId": "1330a093-22ad-4ee2-de63-c984e0f7182d"
   },
   "outputs": [
    {
     "data": {
      "image/png": "[encoded data removed]",
      "text/plain": [
       "<Figure size 1080x840 with 6 Axes>"
      ]
     },
     "metadata": {
      "tags": []
     },
     "output_type": "display_data"
    }
   ],
   "source": [
    "import numpy as np, pandas as pd\n",
    "from statsmodels.graphics.tsaplots import plot_acf, plot_pacf\n",
    "import matplotlib.pyplot as plt\n",
    "plt.rcParams.update({'figure.figsize':(9,7), 'figure.dpi':120})\n",
    "\n",
    "\n",
    "# Original Series\n",
    "fig, axes = plt.subplots(3, 2, sharex=True)\n",
    "axes[0, 0].plot(df); axes[0, 0].set_title('Original Series')\n",
    "plot_acf(df, ax=axes[0, 1])\n",
    "\n",
    "# 1st Differencing\n",
    "axes[1, 0].plot(df.diff()); axes[1, 0].set_title('1st Order Differencing')\n",
    "plot_acf(df.diff().dropna(), ax=axes[1, 1])\n",
    "\n",
    "# 2nd Differencing\n",
    "axes[2, 0].plot(df.diff().diff()); axes[2, 0].set_title('2nd Order Differencing')\n",
    "plot_acf(df.diff().diff().dropna(), ax=axes[2, 1])\n",
    "\n",
    "plt.show()"
   ]
  },
  {
   "cell_type": "code",
   "execution_count": 0,
   "metadata": {
    "colab": {},
    "colab_type": "code",
    "id": "amr0XZRMNxce"
   },
   "outputs": [],
   "source": [
    "# evaluate one or more weekly forecasts against expected values\n",
    "def evaluate_forecasts(actual, predicted):\n",
    "    scores = list()\n",
    "    # calculate an RMSE score for each day\n",
    "    for i in range(actual.shape[1]):\n",
    "        # calculate mse\n",
    "        mse = mean_squared_error(actual[:, i], predicted[:, i])\n",
    "        # calculate rmse\n",
    "        rmse = sqrt(mse)\n",
    "        # store\n",
    "        scores.append(rmse)\n",
    "    # calculate overall RMSE\n",
    "    s = 0\n",
    "    for row in range(actual.shape[0]):\n",
    "        for col in range(actual.shape[1]):\n",
    "            s += (actual[row, col] - predicted[row, col])**2\n",
    "    score = sqrt(s / (actual.shape[0] * actual.shape[1]))\n",
    "    return score, scores"
   ]
  },
  {
   "cell_type": "code",
   "execution_count": 0,
   "metadata": {
    "colab": {},
    "colab_type": "code",
    "id": "4Frq1X9cWvLH"
   },
   "outputs": [],
   "source": [
    "from statsmodels.tsa.arima_model import ARIMA"
   ]
  },
  {
   "cell_type": "code",
   "execution_count": 0,
   "metadata": {
    "colab": {
     "base_uri": "https://localhost:8080/",
     "height": 374
    },
    "colab_type": "code",
    "executionInfo": {
     "elapsed": 1068,
     "status": "error",
     "timestamp": 1584010070313,
     "user": {
      "displayName": "Pavan Yarramsetti",
      "photoUrl": "https://lh3.googleusercontent.com/a-/AOh14Ghs51HzOK4JEZ0he65HGpNeQDdDZuuZBvMQyNTS9g=s64",
      "userId": "10676025341115240513"
     },
     "user_tz": -330
    },
    "id": "gAs1AxCvOqrR",
    "outputId": "2a9bd875-9596-4f2e-f9dd-9f3d29eb6135"
   },
   "outputs": [
    {
     "ename": "ValueError",
     "evalue": "ignored",
     "output_type": "error",
     "traceback": [
      "\u001b[0;31m---------------------------------------------------------------------------\u001b[0m",
      "\u001b[0;31mValueError\u001b[0m                                Traceback (most recent call last)",
      "\u001b[0;32m<ipython-input-244-1a0f7ca71484>\u001b[0m in \u001b[0;36m<module>\u001b[0;34m()\u001b[0m\n\u001b[0;32m----> 1\u001b[0;31m \u001b[0mmodel\u001b[0m \u001b[0;34m=\u001b[0m \u001b[0mARIMA\u001b[0m\u001b[0;34m(\u001b[0m\u001b[0mX_train\u001b[0m\u001b[0;34m,\u001b[0m \u001b[0morder\u001b[0m\u001b[0;34m=\u001b[0m\u001b[0marima_order\u001b[0m\u001b[0;34m)\u001b[0m\u001b[0;34m\u001b[0m\u001b[0;34m\u001b[0m\u001b[0m\n\u001b[0m\u001b[1;32m      2\u001b[0m \u001b[0;31m# fit the model\u001b[0m\u001b[0;34m\u001b[0m\u001b[0;34m\u001b[0m\u001b[0;34m\u001b[0m\u001b[0m\n\u001b[1;32m      3\u001b[0m \u001b[0mmodel_fit\u001b[0m \u001b[0;34m=\u001b[0m \u001b[0mmodel\u001b[0m\u001b[0;34m.\u001b[0m\u001b[0mfit\u001b[0m\u001b[0;34m(\u001b[0m\u001b[0mdisp\u001b[0m\u001b[0;34m=\u001b[0m\u001b[0;32mFalse\u001b[0m\u001b[0;34m)\u001b[0m\u001b[0;34m\u001b[0m\u001b[0;34m\u001b[0m\u001b[0m\n\u001b[1;32m      4\u001b[0m \u001b[0;31m# make forecast\u001b[0m\u001b[0;34m\u001b[0m\u001b[0;34m\u001b[0m\u001b[0;34m\u001b[0m\u001b[0m\n\u001b[1;32m      5\u001b[0m \u001b[0myhat\u001b[0m \u001b[0;34m=\u001b[0m \u001b[0mmodel_fit\u001b[0m\u001b[0;34m.\u001b[0m\u001b[0mpredict\u001b[0m\u001b[0;34m(\u001b[0m\u001b[0mlen\u001b[0m\u001b[0;34m(\u001b[0m\u001b[0mseries\u001b[0m\u001b[0;34m)\u001b[0m\u001b[0;34m,\u001b[0m \u001b[0mlen\u001b[0m\u001b[0;34m(\u001b[0m\u001b[0mseries\u001b[0m\u001b[0;34m)\u001b[0m\u001b[0;34m+\u001b[0m\u001b[0;36m6\u001b[0m\u001b[0;34m)\u001b[0m\u001b[0;34m\u001b[0m\u001b[0;34m\u001b[0m\u001b[0m\n",
      "\u001b[0;32m/usr/local/lib/python3.6/dist-packages/statsmodels/tsa/arima_model.py\u001b[0m in \u001b[0;36m__new__\u001b[0;34m(cls, endog, order, exog, dates, freq, missing)\u001b[0m\n\u001b[1;32m    983\u001b[0m         \u001b[0mp\u001b[0m\u001b[0;34m,\u001b[0m \u001b[0md\u001b[0m\u001b[0;34m,\u001b[0m \u001b[0mq\u001b[0m \u001b[0;34m=\u001b[0m \u001b[0morder\u001b[0m\u001b[0;34m\u001b[0m\u001b[0;34m\u001b[0m\u001b[0m\n\u001b[1;32m    984\u001b[0m         \u001b[0;32mif\u001b[0m \u001b[0md\u001b[0m \u001b[0;34m==\u001b[0m \u001b[0;36m0\u001b[0m\u001b[0;34m:\u001b[0m  \u001b[0;31m# then we just use an ARMA model\u001b[0m\u001b[0;34m\u001b[0m\u001b[0;34m\u001b[0m\u001b[0m\n\u001b[0;32m--> 985\u001b[0;31m             \u001b[0;32mreturn\u001b[0m \u001b[0mARMA\u001b[0m\u001b[0;34m(\u001b[0m\u001b[0mendog\u001b[0m\u001b[0;34m,\u001b[0m \u001b[0;34m(\u001b[0m\u001b[0mp\u001b[0m\u001b[0;34m,\u001b[0m \u001b[0mq\u001b[0m\u001b[0;34m)\u001b[0m\u001b[0;34m,\u001b[0m \u001b[0mexog\u001b[0m\u001b[0;34m,\u001b[0m \u001b[0mdates\u001b[0m\u001b[0;34m,\u001b[0m \u001b[0mfreq\u001b[0m\u001b[0;34m,\u001b[0m \u001b[0mmissing\u001b[0m\u001b[0;34m)\u001b[0m\u001b[0;34m\u001b[0m\u001b[0;34m\u001b[0m\u001b[0m\n\u001b[0m\u001b[1;32m    986\u001b[0m         \u001b[0;32melse\u001b[0m\u001b[0;34m:\u001b[0m\u001b[0;34m\u001b[0m\u001b[0;34m\u001b[0m\u001b[0m\n\u001b[1;32m    987\u001b[0m             \u001b[0mmod\u001b[0m \u001b[0;34m=\u001b[0m \u001b[0msuper\u001b[0m\u001b[0;34m(\u001b[0m\u001b[0mARIMA\u001b[0m\u001b[0;34m,\u001b[0m \u001b[0mcls\u001b[0m\u001b[0;34m)\u001b[0m\u001b[0;34m.\u001b[0m\u001b[0m__new__\u001b[0m\u001b[0;34m(\u001b[0m\u001b[0mcls\u001b[0m\u001b[0;34m)\u001b[0m\u001b[0;34m\u001b[0m\u001b[0;34m\u001b[0m\u001b[0m\n",
      "\u001b[0;32m/usr/local/lib/python3.6/dist-packages/statsmodels/tsa/arima_model.py\u001b[0m in \u001b[0;36m__init__\u001b[0;34m(self, endog, order, exog, dates, freq, missing)\u001b[0m\n\u001b[1;32m    424\u001b[0m         \u001b[0m_endog\u001b[0m \u001b[0;34m=\u001b[0m \u001b[0mendog\u001b[0m \u001b[0;32mif\u001b[0m \u001b[0mhasattr\u001b[0m\u001b[0;34m(\u001b[0m\u001b[0mendog\u001b[0m\u001b[0;34m,\u001b[0m \u001b[0;34m'ndim'\u001b[0m\u001b[0;34m)\u001b[0m \u001b[0;32melse\u001b[0m \u001b[0mnp\u001b[0m\u001b[0;34m.\u001b[0m\u001b[0masarray\u001b[0m\u001b[0;34m(\u001b[0m\u001b[0mendog\u001b[0m\u001b[0;34m)\u001b[0m\u001b[0;34m\u001b[0m\u001b[0;34m\u001b[0m\u001b[0m\n\u001b[1;32m    425\u001b[0m         \u001b[0;32mif\u001b[0m \u001b[0;34m(\u001b[0m\u001b[0m_endog\u001b[0m\u001b[0;34m.\u001b[0m\u001b[0mndim\u001b[0m \u001b[0;34m==\u001b[0m \u001b[0;36m2\u001b[0m \u001b[0;32mand\u001b[0m \u001b[0m_endog\u001b[0m\u001b[0;34m.\u001b[0m\u001b[0mshape\u001b[0m\u001b[0;34m[\u001b[0m\u001b[0;36m1\u001b[0m\u001b[0;34m]\u001b[0m \u001b[0;34m!=\u001b[0m \u001b[0;36m1\u001b[0m\u001b[0;34m)\u001b[0m \u001b[0;32mor\u001b[0m \u001b[0m_endog\u001b[0m\u001b[0;34m.\u001b[0m\u001b[0mndim\u001b[0m \u001b[0;34m>\u001b[0m \u001b[0;36m2\u001b[0m\u001b[0;34m:\u001b[0m\u001b[0;34m\u001b[0m\u001b[0;34m\u001b[0m\u001b[0m\n\u001b[0;32m--> 426\u001b[0;31m             \u001b[0;32mraise\u001b[0m \u001b[0mValueError\u001b[0m\u001b[0;34m(\u001b[0m\u001b[0;34m'endog must be 1-d or 2-d with 1 column'\u001b[0m\u001b[0;34m)\u001b[0m\u001b[0;34m\u001b[0m\u001b[0;34m\u001b[0m\u001b[0m\n\u001b[0m\u001b[1;32m    427\u001b[0m         \u001b[0mexog\u001b[0m \u001b[0;34m=\u001b[0m \u001b[0mself\u001b[0m\u001b[0;34m.\u001b[0m\u001b[0mdata\u001b[0m\u001b[0;34m.\u001b[0m\u001b[0mexog\u001b[0m  \u001b[0;31m# get it after it's gone through processing\u001b[0m\u001b[0;34m\u001b[0m\u001b[0;34m\u001b[0m\u001b[0m\n\u001b[1;32m    428\u001b[0m         \u001b[0m_check_estimable\u001b[0m\u001b[0;34m(\u001b[0m\u001b[0mlen\u001b[0m\u001b[0;34m(\u001b[0m\u001b[0mself\u001b[0m\u001b[0;34m.\u001b[0m\u001b[0mendog\u001b[0m\u001b[0;34m)\u001b[0m\u001b[0;34m,\u001b[0m \u001b[0msum\u001b[0m\u001b[0;34m(\u001b[0m\u001b[0morder\u001b[0m\u001b[0;34m)\u001b[0m\u001b[0;34m)\u001b[0m\u001b[0;34m\u001b[0m\u001b[0;34m\u001b[0m\u001b[0m\n",
      "\u001b[0;31mValueError\u001b[0m: endog must be 1-d or 2-d with 1 column"
     ]
    }
   ],
   "source": [
    "# define the model\n",
    "    model = ARIMA(X_train, order=arima_order)\n",
    "    # fit the model\n",
    "    model_fit = model.fit(disp=False)\n",
    "    # make forecast\n",
    "    yhat = model_fit.predict(len(series), len(series)+6)"
   ]
  },
  {
   "cell_type": "code",
   "execution_count": 0,
   "metadata": {
    "colab": {},
    "colab_type": "code",
    "id": "COqDaKsD_MPA"
   },
   "outputs": [],
   "source": [
    "arima_order = (1,0,0)"
   ]
  },
  {
   "cell_type": "code",
   "execution_count": 0,
   "metadata": {
    "colab": {},
    "colab_type": "code",
    "id": "F0xrb8TY_MMD"
   },
   "outputs": [],
   "source": [
    "train, test = split_dataset(dataset.values, n_test)"
   ]
  },
  {
   "cell_type": "code",
   "execution_count": 0,
   "metadata": {
    "colab": {},
    "colab_type": "code",
    "id": "iuwC0RwX_MJc"
   },
   "outputs": [],
   "source": []
  },
  {
   "cell_type": "code",
   "execution_count": 0,
   "metadata": {
    "colab": {},
    "colab_type": "code",
    "id": "V_YvXWiC_LVc"
   },
   "outputs": [],
   "source": []
  },
  {
   "cell_type": "markdown",
   "metadata": {
    "colab_type": "text",
    "id": "1H7XEWaa_OBR"
   },
   "source": [
    "# **Phase1**"
   ]
  },
  {
   "cell_type": "code",
   "execution_count": 0,
   "metadata": {
    "colab": {},
    "colab_type": "code",
    "id": "CeuMryEQ0IMO"
   },
   "outputs": [],
   "source": [
    "data = pd.read_csv('PRSA_data_2010.1.1-2014.12.31.csv')"
   ]
  },
  {
   "cell_type": "code",
   "execution_count": 0,
   "metadata": {
    "colab": {},
    "colab_type": "code",
    "id": "OtQ__pK-1EjC"
   },
   "outputs": [],
   "source": [
    "data = data['pm2.5']"
   ]
  },
  {
   "cell_type": "code",
   "execution_count": 0,
   "metadata": {
    "colab": {},
    "colab_type": "code",
    "id": "xGpaL2UTnw4z"
   },
   "outputs": [],
   "source": [
    "data = data.dropna()"
   ]
  },
  {
   "cell_type": "code",
   "execution_count": 0,
   "metadata": {
    "colab": {
     "base_uri": "https://localhost:8080/",
     "height": 221
    },
    "colab_type": "code",
    "executionInfo": {
     "elapsed": 1127,
     "status": "ok",
     "timestamp": 1584347623094,
     "user": {
      "displayName": "Pavan Yarramsetti",
      "photoUrl": "https://lh3.googleusercontent.com/a-/AOh14Ghs51HzOK4JEZ0he65HGpNeQDdDZuuZBvMQyNTS9g=s64",
      "userId": "10676025341115240513"
     },
     "user_tz": -330
    },
    "id": "MfzzX0ZmfamK",
    "outputId": "430e6714-9fff-49c2-813c-595f765bc77c"
   },
   "outputs": [
    {
     "data": {
      "text/plain": [
       "0        129.0\n",
       "1        148.0\n",
       "2        159.0\n",
       "3        181.0\n",
       "4        138.0\n",
       "         ...  \n",
       "41752      8.0\n",
       "41753     10.0\n",
       "41754     10.0\n",
       "41755      8.0\n",
       "41756     12.0\n",
       "Name: pm2.5, Length: 41757, dtype: float64"
      ]
     },
     "execution_count": 8,
     "metadata": {
      "tags": []
     },
     "output_type": "execute_result"
    }
   ],
   "source": [
    "data=data.reset_index(drop=True)\n",
    "data"
   ]
  },
  {
   "cell_type": "code",
   "execution_count": 0,
   "metadata": {
    "colab": {},
    "colab_type": "code",
    "id": "x7eEWlwIZ7_H"
   },
   "outputs": [],
   "source": [
    "from sklearn.preprocessing import MinMaxScaler"
   ]
  },
  {
   "cell_type": "code",
   "execution_count": 0,
   "metadata": {
    "colab": {
     "base_uri": "https://localhost:8080/",
     "height": 34
    },
    "colab_type": "code",
    "executionInfo": {
     "elapsed": 2042,
     "status": "ok",
     "timestamp": 1584347624598,
     "user": {
      "displayName": "Pavan Yarramsetti",
      "photoUrl": "https://lh3.googleusercontent.com/a-/AOh14Ghs51HzOK4JEZ0he65HGpNeQDdDZuuZBvMQyNTS9g=s64",
      "userId": "10676025341115240513"
     },
     "user_tz": -330
    },
    "id": "7nzcKFMbaPTX",
    "outputId": "1c354882-6403-49b4-994c-a3d7f7b5f083"
   },
   "outputs": [
    {
     "data": {
      "text/plain": [
       "(41757,)"
      ]
     },
     "execution_count": 10,
     "metadata": {
      "tags": []
     },
     "output_type": "execute_result"
    }
   ],
   "source": [
    "data = np.array(data)\n",
    "data.shape"
   ]
  },
  {
   "cell_type": "code",
   "execution_count": 0,
   "metadata": {
    "colab": {},
    "colab_type": "code",
    "id": "zqtPj6l2efQg"
   },
   "outputs": [],
   "source": [
    "import numpy as np\n",
    "data = np.reshape(data , (41757,1))"
   ]
  },
  {
   "cell_type": "code",
   "execution_count": 0,
   "metadata": {
    "colab": {
     "base_uri": "https://localhost:8080/",
     "height": 34
    },
    "colab_type": "code",
    "executionInfo": {
     "elapsed": 1630,
     "status": "ok",
     "timestamp": 1584347624602,
     "user": {
      "displayName": "Pavan Yarramsetti",
      "photoUrl": "https://lh3.googleusercontent.com/a-/AOh14Ghs51HzOK4JEZ0he65HGpNeQDdDZuuZBvMQyNTS9g=s64",
      "userId": "10676025341115240513"
     },
     "user_tz": -330
    },
    "id": "7F3t42xqeHTF",
    "outputId": "2a7ac6a0-5520-4e15-e9b9-d1a9f6d48b3e"
   },
   "outputs": [
    {
     "data": {
      "text/plain": [
       "(41757, 1)"
      ]
     },
     "execution_count": 12,
     "metadata": {
      "tags": []
     },
     "output_type": "execute_result"
    }
   ],
   "source": [
    "data.shape"
   ]
  },
  {
   "cell_type": "code",
   "execution_count": 0,
   "metadata": {
    "colab": {},
    "colab_type": "code",
    "id": "n0wRd-afecUH"
   },
   "outputs": [],
   "source": [
    "sc = MinMaxScaler()\n",
    "data = sc.fit_transform(data)"
   ]
  },
  {
   "cell_type": "code",
   "execution_count": 0,
   "metadata": {
    "colab": {
     "base_uri": "https://localhost:8080/",
     "height": 136
    },
    "colab_type": "code",
    "executionInfo": {
     "elapsed": 1100,
     "status": "ok",
     "timestamp": 1584347624617,
     "user": {
      "displayName": "Pavan Yarramsetti",
      "photoUrl": "https://lh3.googleusercontent.com/a-/AOh14Ghs51HzOK4JEZ0he65HGpNeQDdDZuuZBvMQyNTS9g=s64",
      "userId": "10676025341115240513"
     },
     "user_tz": -330
    },
    "id": "fvRZb0-1g4g9",
    "outputId": "9fb1e0de-8635-4303-e871-4c3f9b0c68b4"
   },
   "outputs": [
    {
     "data": {
      "text/plain": [
       "array([[0.12977867],\n",
       "       [0.14889336],\n",
       "       [0.15995976],\n",
       "       ...,\n",
       "       [0.01006036],\n",
       "       [0.00804829],\n",
       "       [0.01207243]])"
      ]
     },
     "execution_count": 14,
     "metadata": {
      "tags": []
     },
     "output_type": "execute_result"
    }
   ],
   "source": [
    "data"
   ]
  },
  {
   "cell_type": "code",
   "execution_count": 0,
   "metadata": {
    "colab": {},
    "colab_type": "code",
    "id": "DrRIqa9WZHOo"
   },
   "outputs": [],
   "source": [
    "train = data[:41717]\n",
    "test = data[41717:]"
   ]
  },
  {
   "cell_type": "code",
   "execution_count": 0,
   "metadata": {
    "colab": {
     "base_uri": "https://localhost:8080/",
     "height": 34
    },
    "colab_type": "code",
    "executionInfo": {
     "elapsed": 1567,
     "status": "ok",
     "timestamp": 1584347625585,
     "user": {
      "displayName": "Pavan Yarramsetti",
      "photoUrl": "https://lh3.googleusercontent.com/a-/AOh14Ghs51HzOK4JEZ0he65HGpNeQDdDZuuZBvMQyNTS9g=s64",
      "userId": "10676025341115240513"
     },
     "user_tz": -330
    },
    "id": "r2HDczIsOqlP",
    "outputId": "a8def745-4ec0-4afd-ea4b-0118b22397d5"
   },
   "outputs": [
    {
     "data": {
      "text/plain": [
       "((41717, 1), (40, 1), 41717)"
      ]
     },
     "execution_count": 16,
     "metadata": {
      "tags": []
     },
     "output_type": "execute_result"
    }
   ],
   "source": [
    "train.shape, test.shape, len(train)"
   ]
  },
  {
   "cell_type": "code",
   "execution_count": 0,
   "metadata": {
    "colab": {},
    "colab_type": "code",
    "id": "-omTORSKZhWj"
   },
   "outputs": [],
   "source": [
    "n_steps = 7"
   ]
  },
  {
   "cell_type": "code",
   "execution_count": 0,
   "metadata": {
    "colab": {},
    "colab_type": "code",
    "id": "nEfQswnwaf_8"
   },
   "outputs": [],
   "source": [
    "x, y = [], []\n",
    "\n",
    "for i in range(len(train)):\n",
    "  end = i+n_steps\n",
    "  if end > len(train):\n",
    "    break\n",
    "  x.append(train[i:end-1])\n",
    "  y.append(train[end-1])"
   ]
  },
  {
   "cell_type": "code",
   "execution_count": 0,
   "metadata": {
    "colab": {},
    "colab_type": "code",
    "id": "pw1ZN0sx9K28"
   },
   "outputs": [],
   "source": [
    "x_test, y_test = [], []\n",
    "for i in range(len(test)):\n",
    "  end = i+n_steps\n",
    "  if end > len(test):\n",
    "    break\n",
    "  x_test.append(test[i:end-1])\n",
    "  y_test.append(test[end-1])"
   ]
  },
  {
   "cell_type": "code",
   "execution_count": 0,
   "metadata": {
    "colab": {},
    "colab_type": "code",
    "id": "O-MfNuys9Uws"
   },
   "outputs": [],
   "source": [
    "X_test,Y_test=np.array(x_test),np.array(y_test)"
   ]
  },
  {
   "cell_type": "code",
   "execution_count": 0,
   "metadata": {
    "colab": {},
    "colab_type": "code",
    "id": "MFkilBrfqQAh"
   },
   "outputs": [],
   "source": [
    "X_train, y_train = np.array(x), np.array(y)"
   ]
  },
  {
   "cell_type": "code",
   "execution_count": 0,
   "metadata": {
    "colab": {
     "base_uri": "https://localhost:8080/",
     "height": 34
    },
    "colab_type": "code",
    "executionInfo": {
     "elapsed": 1404,
     "status": "ok",
     "timestamp": 1584347626961,
     "user": {
      "displayName": "Pavan Yarramsetti",
      "photoUrl": "https://lh3.googleusercontent.com/a-/AOh14Ghs51HzOK4JEZ0he65HGpNeQDdDZuuZBvMQyNTS9g=s64",
      "userId": "10676025341115240513"
     },
     "user_tz": -330
    },
    "id": "XGyKnhS7BWtB",
    "outputId": "5a0c45b8-6bcf-421c-c611-c28ead79a94a"
   },
   "outputs": [
    {
     "data": {
      "text/plain": [
       "((41711, 6, 1), (41711, 1), (34, 6, 1), (34, 1))"
      ]
     },
     "execution_count": 22,
     "metadata": {
      "tags": []
     },
     "output_type": "execute_result"
    }
   ],
   "source": [
    "X_train.shape, y_train.shape,X_test.shape,Y_test.shape"
   ]
  },
  {
   "cell_type": "code",
   "execution_count": 0,
   "metadata": {
    "colab": {
     "base_uri": "https://localhost:8080/",
     "height": 34
    },
    "colab_type": "code",
    "executionInfo": {
     "elapsed": 1138,
     "status": "ok",
     "timestamp": 1584347626963,
     "user": {
      "displayName": "Pavan Yarramsetti",
      "photoUrl": "https://lh3.googleusercontent.com/a-/AOh14Ghs51HzOK4JEZ0he65HGpNeQDdDZuuZBvMQyNTS9g=s64",
      "userId": "10676025341115240513"
     },
     "user_tz": -330
    },
    "id": "hbCHhRELSYZy",
    "outputId": "9f8a313d-333a-47f5-dd42-73838b26d6b6"
   },
   "outputs": [
    {
     "data": {
      "text/plain": [
       "(34, 1)"
      ]
     },
     "execution_count": 23,
     "metadata": {
      "tags": []
     },
     "output_type": "execute_result"
    }
   ],
   "source": [
    "\n",
    "Y_test.shape"
   ]
  },
  {
   "cell_type": "markdown",
   "metadata": {
    "colab_type": "text",
    "id": "zfBcB4Jfld67"
   },
   "source": [
    "Conv1D"
   ]
  },
  {
   "cell_type": "code",
   "execution_count": 0,
   "metadata": {
    "colab": {
     "base_uri": "https://localhost:8080/",
     "height": 122
    },
    "colab_type": "code",
    "executionInfo": {
     "elapsed": 4769,
     "status": "ok",
     "timestamp": 1584347631094,
     "user": {
      "displayName": "Pavan Yarramsetti",
      "photoUrl": "https://lh3.googleusercontent.com/a-/AOh14Ghs51HzOK4JEZ0he65HGpNeQDdDZuuZBvMQyNTS9g=s64",
      "userId": "10676025341115240513"
     },
     "user_tz": -330
    },
    "id": "x8O-jY19Rjo_",
    "outputId": "4663268b-746b-48e0-e366-737712e1b241"
   },
   "outputs": [
    {
     "name": "stdout",
     "output_type": "stream",
     "text": [
      "WARNING:tensorflow:From /usr/local/lib/python3.6/dist-packages/tensorflow_core/python/ops/resource_variable_ops.py:1630: calling BaseResourceVariable.__init__ (from tensorflow.python.ops.resource_variable_ops) with constraint is deprecated and will be removed in a future version.\n",
      "Instructions for updating:\n",
      "If using Keras pass *_constraint arguments to layers.\n",
      "WARNING:tensorflow:From /usr/local/lib/python3.6/dist-packages/keras/backend/tensorflow_backend.py:4070: The name tf.nn.max_pool is deprecated. Please use tf.nn.max_pool2d instead.\n",
      "\n"
     ]
    }
   ],
   "source": [
    "model1 = Sequential()\n",
    "model1.add(Conv1D(32,(2), activation = 'relu',input_shape = (6, 1)))\n",
    "model1.add(MaxPool1D(pool_size=(2)))\n",
    "model1.add(Flatten())\n",
    "model1.add(Dense(20, activation ='relu'))\n",
    "model1.add(Dense(50, activation = 'relu'))\n",
    "model1.add(Dense(1))"
   ]
  },
  {
   "cell_type": "code",
   "execution_count": 0,
   "metadata": {
    "colab": {
     "base_uri": "https://localhost:8080/",
     "height": 34
    },
    "colab_type": "code",
    "executionInfo": {
     "elapsed": 4492,
     "status": "ok",
     "timestamp": 1584347631096,
     "user": {
      "displayName": "Pavan Yarramsetti",
      "photoUrl": "https://lh3.googleusercontent.com/a-/AOh14Ghs51HzOK4JEZ0he65HGpNeQDdDZuuZBvMQyNTS9g=s64",
      "userId": "10676025341115240513"
     },
     "user_tz": -330
    },
    "id": "4_FBLdARziVG",
    "outputId": "c1a5e2a7-ae08-4793-db4b-28e2bf663c9a"
   },
   "outputs": [
    {
     "data": {
      "text/plain": [
       "(41711, 6, 1)"
      ]
     },
     "execution_count": 25,
     "metadata": {
      "tags": []
     },
     "output_type": "execute_result"
    }
   ],
   "source": [
    "X_train.shape"
   ]
  },
  {
   "cell_type": "code",
   "execution_count": 0,
   "metadata": {
    "colab": {
     "base_uri": "https://localhost:8080/",
     "height": 357
    },
    "colab_type": "code",
    "executionInfo": {
     "elapsed": 5390,
     "status": "ok",
     "timestamp": 1584347632311,
     "user": {
      "displayName": "Pavan Yarramsetti",
      "photoUrl": "https://lh3.googleusercontent.com/a-/AOh14Ghs51HzOK4JEZ0he65HGpNeQDdDZuuZBvMQyNTS9g=s64",
      "userId": "10676025341115240513"
     },
     "user_tz": -330
    },
    "id": "QJScCgUjt_kI",
    "outputId": "833bccfb-a17e-4c22-ae93-09efb529d3f5"
   },
   "outputs": [
    {
     "name": "stdout",
     "output_type": "stream",
     "text": [
      "Model: \"sequential_1\"\n",
      "_________________________________________________________________\n",
      "Layer (type)                 Output Shape              Param #   \n",
      "=================================================================\n",
      "conv1d_1 (Conv1D)            (None, 5, 32)             96        \n",
      "_________________________________________________________________\n",
      "max_pooling1d_1 (MaxPooling1 (None, 2, 32)             0         \n",
      "_________________________________________________________________\n",
      "flatten_1 (Flatten)          (None, 64)                0         \n",
      "_________________________________________________________________\n",
      "dense_1 (Dense)              (None, 20)                1300      \n",
      "_________________________________________________________________\n",
      "dense_2 (Dense)              (None, 50)                1050      \n",
      "_________________________________________________________________\n",
      "dense_3 (Dense)              (None, 1)                 51        \n",
      "=================================================================\n",
      "Total params: 2,497\n",
      "Trainable params: 2,497\n",
      "Non-trainable params: 0\n",
      "_________________________________________________________________\n"
     ]
    }
   ],
   "source": [
    "model1.compile(loss='mse', optimizer='adam')\n",
    "model1.summary()"
   ]
  },
  {
   "cell_type": "code",
   "execution_count": 0,
   "metadata": {
    "colab": {
     "base_uri": "https://localhost:8080/",
     "height": 785
    },
    "colab_type": "code",
    "executionInfo": {
     "elapsed": 34775,
     "status": "ok",
     "timestamp": 1584347662050,
     "user": {
      "displayName": "Pavan Yarramsetti",
      "photoUrl": "https://lh3.googleusercontent.com/a-/AOh14Ghs51HzOK4JEZ0he65HGpNeQDdDZuuZBvMQyNTS9g=s64",
      "userId": "10676025341115240513"
     },
     "user_tz": -330
    },
    "id": "mmk42A2ek5Nf",
    "outputId": "9a292c51-834c-45ae-f89d-ac1e70138daa"
   },
   "outputs": [
    {
     "name": "stdout",
     "output_type": "stream",
     "text": [
      "WARNING:tensorflow:From /usr/local/lib/python3.6/dist-packages/keras/backend/tensorflow_backend.py:422: The name tf.global_variables is deprecated. Please use tf.compat.v1.global_variables instead.\n",
      "\n",
      "Train on 33368 samples, validate on 8343 samples\n",
      "Epoch 1/20\n",
      "33368/33368 [==============================] - 2s 54us/step - loss: 0.0018 - val_loss: 0.0018\n",
      "Epoch 2/20\n",
      "33368/33368 [==============================] - 2s 49us/step - loss: 0.0015 - val_loss: 0.0011\n",
      "Epoch 3/20\n",
      "33368/33368 [==============================] - 2s 48us/step - loss: 0.0015 - val_loss: 0.0011\n",
      "Epoch 4/20\n",
      "33368/33368 [==============================] - 2s 48us/step - loss: 0.0014 - val_loss: 0.0012\n",
      "Epoch 5/20\n",
      "33368/33368 [==============================] - 2s 49us/step - loss: 0.0014 - val_loss: 0.0013\n",
      "Epoch 6/20\n",
      "33368/33368 [==============================] - 2s 48us/step - loss: 0.0014 - val_loss: 0.0011\n",
      "Epoch 7/20\n",
      "33368/33368 [==============================] - 2s 49us/step - loss: 0.0014 - val_loss: 0.0011\n",
      "Epoch 8/20\n",
      "33368/33368 [==============================] - 2s 49us/step - loss: 0.0014 - val_loss: 0.0011\n",
      "Epoch 9/20\n",
      "33368/33368 [==============================] - 2s 48us/step - loss: 0.0014 - val_loss: 0.0011\n",
      "Epoch 10/20\n",
      "33368/33368 [==============================] - 2s 48us/step - loss: 0.0014 - val_loss: 0.0012\n",
      "Epoch 11/20\n",
      "33368/33368 [==============================] - 2s 49us/step - loss: 0.0014 - val_loss: 0.0011\n",
      "Epoch 12/20\n",
      "33368/33368 [==============================] - 2s 48us/step - loss: 0.0014 - val_loss: 0.0013\n",
      "Epoch 13/20\n",
      "33368/33368 [==============================] - 2s 49us/step - loss: 0.0014 - val_loss: 0.0011\n",
      "Epoch 14/20\n",
      "33368/33368 [==============================] - 2s 48us/step - loss: 0.0014 - val_loss: 0.0014\n",
      "Epoch 15/20\n",
      "33368/33368 [==============================] - 2s 48us/step - loss: 0.0014 - val_loss: 0.0011\n",
      "Epoch 16/20\n",
      "33368/33368 [==============================] - 2s 49us/step - loss: 0.0014 - val_loss: 0.0014\n",
      "Epoch 17/20\n",
      "33368/33368 [==============================] - 2s 48us/step - loss: 0.0014 - val_loss: 0.0011\n",
      "Epoch 18/20\n",
      "33368/33368 [==============================] - 2s 48us/step - loss: 0.0014 - val_loss: 0.0012\n",
      "Epoch 19/20\n",
      "33368/33368 [==============================] - 2s 48us/step - loss: 0.0014 - val_loss: 0.0011\n",
      "Epoch 20/20\n",
      "33368/33368 [==============================] - 2s 48us/step - loss: 0.0014 - val_loss: 0.0011\n"
     ]
    },
    {
     "data": {
      "text/plain": [
       "<keras.callbacks.callbacks.History at 0x7f7d29dab2e8>"
      ]
     },
     "execution_count": 27,
     "metadata": {
      "tags": []
     },
     "output_type": "execute_result"
    }
   ],
   "source": [
    "model1.fit(X_train, y_train, epochs = 20,validation_split=0.2)"
   ]
  },
  {
   "cell_type": "code",
   "execution_count": 0,
   "metadata": {
    "colab": {},
    "colab_type": "code",
    "id": "O7SIsnkslk9o"
   },
   "outputs": [],
   "source": [
    "con1D_predict=model1.predict(X_test)\n",
    "con1D_predict"
   ]
  },
  {
   "cell_type": "markdown",
   "metadata": {
    "colab_type": "text",
    "id": "MfghFjVWllM_"
   },
   "source": [
    "GRU"
   ]
  },
  {
   "cell_type": "code",
   "execution_count": 0,
   "metadata": {
    "colab": {},
    "colab_type": "code",
    "id": "bOI57QJHk5Sq"
   },
   "outputs": [],
   "source": [
    "GRUmodel = Sequential()\n",
    "GRUmodel.add(GRU(200, activation='relu',input_shape = (6, 1) ))\n",
    "GRUmodel.add(Dense(50, activation = 'relu'))\n",
    "GRUmodel.add(Dense(1))"
   ]
  },
  {
   "cell_type": "code",
   "execution_count": 0,
   "metadata": {
    "colab": {},
    "colab_type": "code",
    "id": "zS-VYQUJk5E_"
   },
   "outputs": [],
   "source": [
    "GRUmodel.compile(loss='mse', optimizer='adam')\n",
    "GRUmodel.summary()"
   ]
  },
  {
   "cell_type": "code",
   "execution_count": 0,
   "metadata": {
    "colab": {},
    "colab_type": "code",
    "id": "uItPe236tyFn"
   },
   "outputs": [],
   "source": [
    "GRUmodel.fit(X_train, y_train, epochs = 20,validation_split=0.2)"
   ]
  },
  {
   "cell_type": "code",
   "execution_count": 0,
   "metadata": {
    "colab": {},
    "colab_type": "code",
    "id": "ihR39W2YRipX"
   },
   "outputs": [],
   "source": [
    "GRU_predict=GRUmodel.predict(X_test)\n",
    "GRU_predict"
   ]
  },
  {
   "cell_type": "markdown",
   "metadata": {
    "colab_type": "text",
    "id": "zcd0gBZgmgbQ"
   },
   "source": [
    "LSTM"
   ]
  },
  {
   "cell_type": "code",
   "execution_count": 0,
   "metadata": {
    "colab": {},
    "colab_type": "code",
    "id": "2Vmqz4lpmfpO"
   },
   "outputs": [],
   "source": [
    "\n",
    "\n",
    "LSTMmodel = Sequential()\n",
    "LSTMmodel.add(LSTM(200, activation='relu',input_shape = (6, 1) ))\n",
    "LSTMmodel.add(Dense(50, activation = 'relu'))\n",
    "LSTMmodel.add(Dense(1))"
   ]
  },
  {
   "cell_type": "code",
   "execution_count": 0,
   "metadata": {
    "colab": {},
    "colab_type": "code",
    "id": "Y35yKdibtyLy"
   },
   "outputs": [],
   "source": [
    "LSTMmodel.compile(loss='mse', optimizer='adam')\n",
    "LSTMmodel.summary()"
   ]
  },
  {
   "cell_type": "code",
   "execution_count": 0,
   "metadata": {
    "colab": {},
    "colab_type": "code",
    "id": "T0zt8ZBLtyQ2"
   },
   "outputs": [],
   "source": [
    "LSTMmodel.fit(X_train, y_train, epochs = 20,validation_split=0.2)"
   ]
  },
  {
   "cell_type": "code",
   "execution_count": 0,
   "metadata": {
    "colab": {},
    "colab_type": "code",
    "id": "PsnXEgSyHRPX"
   },
   "outputs": [],
   "source": [
    "LSTM_predict=LSTMmodel.predict(X_test)"
   ]
  },
  {
   "cell_type": "code",
   "execution_count": 0,
   "metadata": {
    "colab": {},
    "colab_type": "code",
    "id": "J4CWy2r2cwSs"
   },
   "outputs": [],
   "source": [
    "#pip install keras-tcn\n"
   ]
  },
  {
   "cell_type": "code",
   "execution_count": 0,
   "metadata": {
    "colab": {},
    "colab_type": "code",
    "id": "GoTCcULmh3sP"
   },
   "outputs": [],
   "source": [
    "\n",
    "from tcn import TCN\n",
    "from tensorflow.keras import Input, Model\n"
   ]
  },
  {
   "cell_type": "code",
   "execution_count": 0,
   "metadata": {
    "colab": {},
    "colab_type": "code",
    "id": "b-wKpeOKrFQF"
   },
   "outputs": [],
   "source": [
    "from tensorflow.keras.layers import Dense"
   ]
  },
  {
   "cell_type": "code",
   "execution_count": 0,
   "metadata": {
    "colab": {
     "base_uri": "https://localhost:8080/",
     "height": 34
    },
    "colab_type": "code",
    "executionInfo": {
     "elapsed": 1030714,
     "status": "ok",
     "timestamp": 1584348665743,
     "user": {
      "displayName": "Pavan Yarramsetti",
      "photoUrl": "https://lh3.googleusercontent.com/a-/AOh14Ghs51HzOK4JEZ0he65HGpNeQDdDZuuZBvMQyNTS9g=s64",
      "userId": "10676025341115240513"
     },
     "user_tz": -330
    },
    "id": "oX498TU1iXNR",
    "outputId": "4f9cb5dc-6d06-42cc-a09a-9032d04ada91"
   },
   "outputs": [
    {
     "data": {
      "text/plain": [
       "TensorShape([Dimension(None), Dimension(6), Dimension(1)])"
      ]
     },
     "execution_count": 39,
     "metadata": {
      "tags": []
     },
     "output_type": "execute_result"
    }
   ],
   "source": [
    "batch_size, timesteps, input_dim = None, 6, 1\n",
    "i = Input(batch_shape = (batch_size, timesteps, input_dim))\n",
    "i.shape"
   ]
  },
  {
   "cell_type": "code",
   "execution_count": 0,
   "metadata": {
    "colab": {
     "base_uri": "https://localhost:8080/",
     "height": 731
    },
    "colab_type": "code",
    "executionInfo": {
     "elapsed": 6398,
     "status": "ok",
     "timestamp": 1584349439181,
     "user": {
      "displayName": "Pavan Yarramsetti",
      "photoUrl": "https://lh3.googleusercontent.com/a-/AOh14Ghs51HzOK4JEZ0he65HGpNeQDdDZuuZBvMQyNTS9g=s64",
      "userId": "10676025341115240513"
     },
     "user_tz": -330
    },
    "id": "ptSH71Och9ZW",
    "outputId": "00a6fe14-7b7b-4710-f827-1c1dd77c5fa8"
   },
   "outputs": [
    {
     "name": "stdout",
     "output_type": "stream",
     "text": [
      "Train on 33368 samples, validate on 8343 samples\n",
      "Epoch 1/20\n",
      "33368/33368 [==============================] - 35s 1ms/sample - loss: 0.0204 - val_loss: 9.5992e-04\n",
      "Epoch 2/20\n",
      "33368/33368 [==============================] - 33s 1000us/sample - loss: 0.0019 - val_loss: 0.0011\n",
      "Epoch 3/20\n",
      "33368/33368 [==============================] - 34s 1ms/sample - loss: 0.0014 - val_loss: 8.1331e-04\n",
      "Epoch 4/20\n",
      "33368/33368 [==============================] - 34s 1ms/sample - loss: 0.0010 - val_loss: 6.5770e-04\n",
      "Epoch 5/20\n",
      "33368/33368 [==============================] - 34s 1ms/sample - loss: 0.0014 - val_loss: 8.0081e-04\n",
      "Epoch 6/20\n",
      "33368/33368 [==============================] - 34s 1ms/sample - loss: 7.9222e-04 - val_loss: 7.9442e-04\n",
      "Epoch 7/20\n",
      "33368/33368 [==============================] - 34s 1ms/sample - loss: 7.6966e-04 - val_loss: 5.0479e-04\n",
      "Epoch 8/20\n",
      "33368/33368 [==============================] - 34s 1ms/sample - loss: 8.0634e-04 - val_loss: 4.7610e-04\n",
      "Epoch 9/20\n",
      "33368/33368 [==============================] - 35s 1ms/sample - loss: 8.4098e-04 - val_loss: 5.8427e-04\n",
      "Epoch 10/20\n",
      "33368/33368 [==============================] - 33s 1000us/sample - loss: 6.8035e-04 - val_loss: 5.9905e-04\n",
      "Epoch 11/20\n",
      "33368/33368 [==============================] - 34s 1ms/sample - loss: 6.6034e-04 - val_loss: 6.0501e-04\n",
      "Epoch 12/20\n",
      "33368/33368 [==============================] - 34s 1ms/sample - loss: 7.0184e-04 - val_loss: 4.8952e-04\n",
      "Epoch 13/20\n",
      "33368/33368 [==============================] - 34s 1ms/sample - loss: 6.6717e-04 - val_loss: 4.9027e-04\n",
      "Epoch 14/20\n",
      "33368/33368 [==============================] - 34s 1ms/sample - loss: 6.1876e-04 - val_loss: 4.7124e-04\n",
      "Epoch 15/20\n",
      "33368/33368 [==============================] - 34s 1ms/sample - loss: 6.1855e-04 - val_loss: 4.7343e-04\n",
      "Epoch 16/20\n",
      "33368/33368 [==============================] - 34s 1ms/sample - loss: 6.0145e-04 - val_loss: 4.5795e-04\n",
      "Epoch 17/20\n",
      "33368/33368 [==============================] - 35s 1ms/sample - loss: 5.9952e-04 - val_loss: 4.7913e-04\n",
      "Epoch 18/20\n",
      "33368/33368 [==============================] - 34s 1ms/sample - loss: 5.9888e-04 - val_loss: 4.6310e-04\n",
      "Epoch 19/20\n",
      "33368/33368 [==============================] - 35s 1ms/sample - loss: 6.0629e-04 - val_loss: 4.6773e-04\n",
      "Epoch 20/20\n",
      "33368/33368 [==============================] - 35s 1ms/sample - loss: 5.9222e-04 - val_loss: 4.6651e-04\n"
     ]
    },
    {
     "data": {
      "text/plain": [
       "<tensorflow.python.keras.callbacks.History at 0x7f7d1a7c3f98>"
      ]
     },
     "execution_count": 40,
     "metadata": {
      "tags": []
     },
     "output_type": "execute_result"
    }
   ],
   "source": [
    "o = TCN(return_sequences=False)(i)  # The TCN layers are here.\n",
    "o = Dense(1)(o)\n",
    "\n",
    "m = Model(inputs=[i], outputs=[o])\n",
    "m.compile(optimizer='adam', loss='mse')\n",
    "m.fit(X_train, y_train, epochs=20, validation_split=0.2)"
   ]
  },
  {
   "cell_type": "code",
   "execution_count": 0,
   "metadata": {
    "colab": {},
    "colab_type": "code",
    "id": "INQ1Ick0igc1"
   },
   "outputs": [],
   "source": [
    "TCN_predict=m.predict(X_test)"
   ]
  },
  {
   "cell_type": "markdown",
   "metadata": {
    "colab_type": "text",
    "id": "n7KDaVQNGmyG"
   },
   "source": [
    "# **Con1D_Evalution**"
   ]
  },
  {
   "cell_type": "code",
   "execution_count": 0,
   "metadata": {
    "colab": {},
    "colab_type": "code",
    "id": "nup9dmCqGq7f"
   },
   "outputs": [],
   "source": [
    "from sklearn.metrics import mean_squared_error\n",
    "from sklearn.metrics import mean_absolute_error\n",
    "from sklearn.metrics import r2_score"
   ]
  },
  {
   "cell_type": "code",
   "execution_count": 0,
   "metadata": {
    "colab": {},
    "colab_type": "code",
    "id": "axoZaBJtccd7"
   },
   "outputs": [],
   "source": [
    "def model_evaluate(y_real,y_pred):\n",
    "  Y_real,Y_predict = [], []\n",
    "  n_step=24\n",
    "  for i in range(34):\n",
    "    end = i+n_step\n",
    "    if end > 34:\n",
    "      break\n",
    "    Y_real.append(y_real[i:end])\n",
    "    Y_predict.append(y_pred[i:end])\n",
    "  return Y_real,Y_predict"
   ]
  },
  {
   "cell_type": "code",
   "execution_count": 0,
   "metadata": {
    "colab": {},
    "colab_type": "code",
    "id": "A0CL70eOchiB"
   },
   "outputs": [],
   "source": [
    "def model_evaluate2(Y_real,Y_predict):\n",
    "  mae_scores=list()\n",
    "  rmse_scores=list()\n",
    "  r2_scores=list()\n",
    "  for i in range(len(Y_real)):\n",
    "    mae=mean_absolute_error(Y_real[i],Y_predict[i])\n",
    "    rmse=mean_squared_error(Y_real[i],Y_predict[i])\n",
    "    r2=r2_score(Y_real[i],Y_predict[i])\n",
    "    mae_scores.append(mae)\n",
    "    rmse_scores.append(rmse)\n",
    "    r2_scores.append(r2)\n",
    "  return mae_scores,rmse_scores,r2_scores"
   ]
  },
  {
   "cell_type": "code",
   "execution_count": 0,
   "metadata": {
    "colab": {},
    "colab_type": "code",
    "id": "GMmNYwk_cxBN"
   },
   "outputs": [],
   "source": [
    "Y_test=Y_test.reshape(34)\n",
    "#Con1D\n",
    "con1D_predict=con1D_predict.reshape(con1D_predict.shape[0])\n",
    "Y_real,Y_predict=model_evaluate(np.array(Y_test),np.array(con1D_predict))\n",
    "mae_scores_Con1D,rmse_scores_Con1D,r2_scores_Con1D=model_evaluate2(Y_real,Y_predict)\n",
    "#GRU\n",
    "GRU_predict=GRU_predict.reshape(GRU_predict.shape[0])\n",
    "Y_real,Y_predict=model_evaluate(np.array(Y_test),np.array(GRU_predict))\n",
    "mae_scores_GRU,rmse_scores_GRU,r2_scores_GRU=model_evaluate2(Y_real,Y_predict)\n",
    "#LSTM\n",
    "LSTM_predict=LSTM_predict.reshape(LSTM_predict.shape[0])\n",
    "Y_real,Y_predict=model_evaluate(np.array(Y_test),np.array(LSTM_predict))\n",
    "mae_scores_LSTM,rmse_scores_LSTM,r2_scores_LSTM=model_evaluate2(Y_real,Y_predict)\n",
    "#TCN\n",
    "TCN_predict=TCN_predict.reshape(TCN_predict.shape[0])\n",
    "Y_real,Y_predict=model_evaluate(np.array(Y_test),np.array(TCN_predict))\n",
    "mae_scores_TCN,rmse_scores_TCN,r2_scores_TCN=model_evaluate2(Y_real,Y_predict)\n",
    "\n",
    "\n"
   ]
  },
  {
   "cell_type": "code",
   "execution_count": 0,
   "metadata": {
    "colab": {},
    "colab_type": "code",
    "id": "VTOBtSCoe1k9"
   },
   "outputs": [],
   "source": [
    "import matplotlib.pyplot as plt\n"
   ]
  },
  {
   "cell_type": "code",
   "execution_count": 0,
   "metadata": {
    "colab": {
     "base_uri": "https://localhost:8080/",
     "height": 607
    },
    "colab_type": "code",
    "executionInfo": {
     "elapsed": 1266,
     "status": "ok",
     "timestamp": 1584349576328,
     "user": {
      "displayName": "Pavan Yarramsetti",
      "photoUrl": "https://lh3.googleusercontent.com/a-/AOh14Ghs51HzOK4JEZ0he65HGpNeQDdDZuuZBvMQyNTS9g=s64",
      "userId": "10676025341115240513"
     },
     "user_tz": -330
    },
    "id": "roJlFgTAZFeN",
    "outputId": "d61225ba-506f-4a5f-c5aa-8db9da8ff41a"
   },
   "outputs": [
    {
     "data": {
      "image/png": "[encoded data removed]",
      "text/plain": [
       "<Figure size 1080x720 with 1 Axes>"
      ]
     },
     "metadata": {
      "tags": []
     },
     "output_type": "display_data"
    }
   ],
   "source": [
    "fig=plt.figure()\n",
    "plt.title('Average MAE of each timeset in test data')\n",
    "plt.rcParams['figure.figsize']=(15,10)\n",
    "timesteps=['1h','2h','3h','4h','5h']\n",
    "plt.plot(timesteps,mae_scores_Con1D[0:5],marker='o',label='Con1D')\n",
    "plt.plot(timesteps,mae_scores_LSTM[0:5],marker='o',label='LSTM')\n",
    "plt.plot(timesteps,mae_scores_GRU[0:5],marker='o',label='GRU')\n",
    "plt.plot(timesteps,mae_scores_TCN[0:5],marker='o',label='TCN')\n",
    "plt.legend(fontsize=20)\n",
    "plt.show()\n",
    "#fig.savefig('MAE.png')"
   ]
  },
  {
   "cell_type": "code",
   "execution_count": 0,
   "metadata": {
    "colab": {
     "base_uri": "https://localhost:8080/",
     "height": 607
    },
    "colab_type": "code",
    "executionInfo": {
     "elapsed": 61,
     "status": "ok",
     "timestamp": 1584349439200,
     "user": {
      "displayName": "Pavan Yarramsetti",
      "photoUrl": "https://lh3.googleusercontent.com/a-/AOh14Ghs51HzOK4JEZ0he65HGpNeQDdDZuuZBvMQyNTS9g=s64",
      "userId": "10676025341115240513"
     },
     "user_tz": -330
    },
    "id": "dzGMdqg_brP2",
    "outputId": "009fa197-daab-42f8-e0f1-b4e7bdc6a4af"
   },
   "outputs": [
    {
     "data": {
      "image/png": "[encoded data removed]",
      "text/plain": [
       "<Figure size 1080x720 with 1 Axes>"
      ]
     },
     "metadata": {
      "tags": []
     },
     "output_type": "display_data"
    }
   ],
   "source": [
    "fig=plt.figure()\n",
    "plt.title('Average RMSE of each timeset in test data')\n",
    "plt.rcParams['figure.figsize']=(15,10)\n",
    "timesteps=['1h','2h','3h','4h','5h']#,'6h','7h','8h','9h','10h','11h']\n",
    "plt.plot(timesteps,rmse_scores_Con1D[0:5],marker='o',label='Con1D')\n",
    "plt.plot(timesteps,rmse_scores_LSTM[0:5],marker='o',label='LSTM')\n",
    "plt.plot(timesteps,rmse_scores_GRU[0:5],marker='o',label='GRU')\n",
    "plt.plot(timesteps,rmse_scores_TCN[0:5],marker='o',label='TCN')\n",
    "plt.label()\n",
    "plt.legend(fontsize=20)\n",
    "plt.show()\n",
    "#fig.savefig('RMSE.png')"
   ]
  },
  {
   "cell_type": "code",
   "execution_count": 0,
   "metadata": {
    "colab": {
     "base_uri": "https://localhost:8080/",
     "height": 607
    },
    "colab_type": "code",
    "executionInfo": {
     "elapsed": 46,
     "status": "ok",
     "timestamp": 1584349439201,
     "user": {
      "displayName": "Pavan Yarramsetti",
      "photoUrl": "https://lh3.googleusercontent.com/a-/AOh14Ghs51HzOK4JEZ0he65HGpNeQDdDZuuZBvMQyNTS9g=s64",
      "userId": "10676025341115240513"
     },
     "user_tz": -330
    },
    "id": "iDq-9kTdb2Oy",
    "outputId": "9d21cacf-b72b-4f7d-9a71-34b2b233282e"
   },
   "outputs": [
    {
     "data": {
      "image/png": "[encoded data removed]",
      "text/plain": [
       "<Figure size 1080x720 with 1 Axes>"
      ]
     },
     "metadata": {
      "tags": []
     },
     "output_type": "display_data"
    }
   ],
   "source": [
    "fig=plt.figure()\n",
    "plt.title('Average R-Square of each timeset in test data')\n",
    "plt.rcParams['figure.figsize']=(15,10)\n",
    "timesteps=['1h','2h','3h','4h','5h']#,'6h','7h','8h','9h','10h','11h']\n",
    "plt.plot(timesteps,r2_scores_Con1D[0:5],marker='o',label='Con1D')\n",
    "plt.plot(timesteps,r2_scores_LSTM[0:5],marker='o',label='LSTM')\n",
    "plt.plot(timesteps,r2_scores_GRU[0:5],marker='o',label='GRU')\n",
    "plt.plot(timesteps,r2_scores_TCN[0:5],marker='o',label='TCN')\n",
    "plt.legend(fontsize=20)\n",
    "plt.show()\n",
    "#fig.savefig('MAE.png')"
   ]
  },
  {
   "cell_type": "code",
   "execution_count": 0,
   "metadata": {
    "colab": {},
    "colab_type": "code",
    "id": "sbt3ZE9NfhTG"
   },
   "outputs": [],
   "source": []
  }
 ],
 "metadata": {
  "colab": {
   "collapsed_sections": [],
   "name": "Uni_varient_Final.ipynb",
   "provenance": [],
   "toc_visible": true
  },
  "kernelspec": {
   "display_name": "Python 3",
   "language": "python",
   "name": "python3"
  },
  "language_info": {
   "codemirror_mode": {
    "name": "ipython",
    "version": 3
   },
   "file_extension": ".py",
   "mimetype": "text/x-python",
   "name": "python",
   "nbconvert_exporter": "python",
   "pygments_lexer": "ipython3",
   "version": "3.7.3"
  }
 },
 "nbformat": 4,
 "nbformat_minor": 1
}
